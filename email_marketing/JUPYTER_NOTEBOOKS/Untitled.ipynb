{
 "cells": [
  {
   "cell_type": "markdown",
   "metadata": {},
   "source": [
    "__Enviando texto normal__"
   ]
  },
  {
   "cell_type": "code",
   "execution_count": 18,
   "metadata": {},
   "outputs": [],
   "source": [
    "import smtplib, ssl\n",
    "\n",
    "smtp_server = \"smtp.gmail.com\"\n",
    "port = 587  # For starttls\n",
    "sender_email = \"email.marketing.grupo2@gmail.com\"\n",
    "password = \"grupodois\"\n",
    "receiver_email = \"lucas.mazim9@gmail.com\"\n",
    "\n",
    "message = \"One piece!\"\n",
    "\n",
    "# Create a secure SSL context\n",
    "context = ssl.create_default_context()\n",
    "\n",
    "# Try to log in to server and send email\n",
    "try:\n",
    "    server = smtplib.SMTP(smtp_server,port)\n",
    "    server.ehlo() # Can be omitted\n",
    "    server.starttls(context=context) # Secure the connection\n",
    "    server.ehlo() # Can be omitted\n",
    "    server.login(sender_email, password)\n",
    "    # TODO: Send email here\n",
    "    server.sendmail(sender_email, receiver_email, message)\n",
    "except Exception as e:\n",
    "    # Print any error messages to stdout\n",
    "    print(e)\n",
    "finally:\n",
    "    server.quit() "
   ]
  },
  {
   "cell_type": "code",
   "execution_count": null,
   "metadata": {},
   "outputs": [],
   "source": []
  },
  {
   "cell_type": "markdown",
   "metadata": {},
   "source": [
    "__Enviando HTML__"
   ]
  },
  {
   "cell_type": "code",
   "execution_count": 20,
   "metadata": {},
   "outputs": [],
   "source": [
    "#! /usr/bin/python\n",
    "\n",
    "import smtplib\n",
    "\n",
    "from email.mime.multipart import MIMEMultipart\n",
    "from email.mime.text import MIMEText\n",
    "\n",
    "# me == my email address\n",
    "# you == recipient's email address\n",
    "me = \"email.marketing.grupo2@gmail.com\"\n",
    "you = \"lucas.mazim9@gmail.com\"\n",
    "\n",
    "# Create message container - the correct MIME type is multipart/alternative.\n",
    "msg = MIMEMultipart('alternative')\n",
    "msg['Subject'] = \"Link\"\n",
    "msg['From'] = me\n",
    "msg['To'] = you\n",
    "\n",
    "# Create the body of the message (a plain-text and an HTML version).\n",
    "text = \"Hi!\\nHow are you?\\nHere is the link you wanted:\\nhttp://www.python.org\"\n",
    "html = \"\"\"\\\n",
    "<html>\n",
    "  <head></head>\n",
    "  <body>\n",
    "    <p>Hi!<br>\n",
    "       How are you?<br>\n",
    "       Here is the <a href=\"http://www.python.org\">link</a> you wanted.\n",
    "    </p>\n",
    "  </body>\n",
    "</html>\n",
    "\"\"\"\n",
    "\n",
    "# Record the MIME types of both parts - text/plain and text/html.\n",
    "part1 = MIMEText(text, 'plain')\n",
    "part2 = MIMEText(html, 'html')\n",
    "\n",
    "# Attach parts into message container.\n",
    "# According to RFC 2046, the last part of a multipart message, in this case\n",
    "# the HTML message, is best and preferred.\n",
    "msg.attach(part1)\n",
    "msg.attach(part2)\n",
    "\n",
    "# Send the message via local SMTP server.\n",
    "#s = smtplib.SMTP('localhost')\n",
    "# sendmail function takes 3 arguments: sender's address, recipient's address\n",
    "# and message to send - here it is sent as one string.\n",
    "#s.sendmail(me, you, msg.as_string())\n",
    "#s.quit()\n",
    "\n",
    "\n",
    "# Try to log in to server and send email\n",
    "try:\n",
    "    server = smtplib.SMTP(smtp_server,port)\n",
    "    server.ehlo() # Can be omitted\n",
    "    server.starttls(context=context) # Secure the connection\n",
    "    server.ehlo() # Can be omitted\n",
    "    server.login(sender_email, password)\n",
    "    # TODO: Send email here\n",
    "    server.sendmail(sender_email, receiver_email, msg.as_string())\n",
    "except Exception as e:\n",
    "    # Print any error messages to stdout\n",
    "    print(e)\n",
    "finally:\n",
    "    server.quit() "
   ]
  },
  {
   "cell_type": "code",
   "execution_count": null,
   "metadata": {},
   "outputs": [],
   "source": []
  },
  {
   "cell_type": "markdown",
   "metadata": {},
   "source": [
    "__Enviando arquivos__"
   ]
  },
  {
   "cell_type": "code",
   "execution_count": 22,
   "metadata": {},
   "outputs": [],
   "source": [
    "import email, smtplib, ssl\n",
    "\n",
    "from email import encoders\n",
    "from email.mime.base import MIMEBase\n",
    "from email.mime.multipart import MIMEMultipart\n",
    "from email.mime.text import MIMEText\n",
    "\n",
    "subject = \"An email with attachment from Python\"\n",
    "body = \"This is an email with attachment sent from Python\"\n",
    "sender_email = \"email.marketing.grupo2@gmail.com\"\n",
    "password = \"grupodois\"\n",
    "receiver_email = \"lucas.mazim9@gmail.com\"\n",
    "\n",
    "# Create a multipart message and set headers\n",
    "message = MIMEMultipart()\n",
    "message[\"From\"] = sender_email\n",
    "message[\"To\"] = receiver_email\n",
    "message[\"Subject\"] = subject\n",
    "message[\"Bcc\"] = receiver_email  # Recommended for mass emails\n",
    "\n",
    "# Add body to email\n",
    "message.attach(MIMEText(body, \"plain\"))\n",
    "\n",
    "filename = \"Hocquet2007 - user classification for keystroke dynamics authentication.pdf\"  # In same directory as script\n",
    "\n",
    "# Open PDF file in binary mode\n",
    "with open(filename, \"rb\") as attachment:\n",
    "    # Add file as application/octet-stream\n",
    "    # Email client can usually download this automatically as attachment\n",
    "    part = MIMEBase(\"application\", \"octet-stream\")\n",
    "    part.set_payload(attachment.read())\n",
    "\n",
    "# Encode file in ASCII characters to send by email    \n",
    "encoders.encode_base64(part)\n",
    "\n",
    "# Add header as key/value pair to attachment part\n",
    "part.add_header(\n",
    "    \"Content-Disposition\",\n",
    "    f\"attachment; filename= {filename}\",\n",
    ")\n",
    "\n",
    "# Add attachment to message and convert message to string\n",
    "message.attach(part)\n",
    "text = message.as_string()\n",
    "\n",
    "# Log in to server using secure context and send email\n",
    "context = ssl.create_default_context()\n",
    "with smtplib.SMTP_SSL(\"smtp.gmail.com\", 465, context=context) as server:\n",
    "    server.login(sender_email, password)\n",
    "    server.sendmail(sender_email, receiver_email, text)"
   ]
  },
  {
   "cell_type": "code",
   "execution_count": null,
   "metadata": {},
   "outputs": [],
   "source": []
  },
  {
   "cell_type": "markdown",
   "metadata": {},
   "source": [
    "__Personalizando__"
   ]
  },
  {
   "cell_type": "code",
   "execution_count": 62,
   "metadata": {},
   "outputs": [],
   "source": [
    "from email import encoders\n",
    "from email.mime.base import MIMEBase\n",
    "\n",
    "def add_attachment(message, filename):\n",
    "    #filename = \"conteudos/eclipse.jpg\"\n",
    "    with open(filename, \"rb\") as attachment:\n",
    "        # Add file as application/octet-stream\n",
    "        # Email client can usually download this automatically as attachment\n",
    "        part = MIMEBase(\"application\", \"octet-stream\")\n",
    "        part.set_payload(attachment.read())\n",
    "\n",
    "    # Encode file in ASCII characters to send by email    \n",
    "    encoders.encode_base64(part)\n",
    "\n",
    "    # Add header as key/value pair to attachment part\n",
    "    part.add_header(\n",
    "        \"Content-Disposition\",\n",
    "        f\"attachment; filename= {filename}\",\n",
    "    )\n",
    "    message.attach(part)\n",
    "    return message"
   ]
  },
  {
   "cell_type": "code",
   "execution_count": null,
   "metadata": {},
   "outputs": [],
   "source": [
    "def add_image(message, filename):\n",
    "    "
   ]
  },
  {
   "cell_type": "code",
   "execution_count": 93,
   "metadata": {},
   "outputs": [
    {
     "ename": "ModuleNotFoundError",
     "evalue": "No module named 'email.MIMEImage'",
     "output_type": "error",
     "traceback": [
      "\u001b[1;31m---------------------------------------------------------------------------\u001b[0m",
      "\u001b[1;31mModuleNotFoundError\u001b[0m                       Traceback (most recent call last)",
      "\u001b[1;32m<ipython-input-93-d6bdcc546d8c>\u001b[0m in \u001b[0;36m<module>\u001b[1;34m\u001b[0m\n\u001b[0;32m      3\u001b[0m \u001b[1;32mfrom\u001b[0m \u001b[0memail\u001b[0m\u001b[1;33m.\u001b[0m\u001b[0mmime\u001b[0m\u001b[1;33m.\u001b[0m\u001b[0mmultipart\u001b[0m \u001b[1;32mimport\u001b[0m \u001b[0mMIMEMultipart\u001b[0m\u001b[1;33m\u001b[0m\u001b[1;33m\u001b[0m\u001b[0m\n\u001b[0;32m      4\u001b[0m \u001b[1;32mfrom\u001b[0m \u001b[0memail\u001b[0m\u001b[1;33m.\u001b[0m\u001b[0mmime\u001b[0m\u001b[1;33m.\u001b[0m\u001b[0mtext\u001b[0m \u001b[1;32mimport\u001b[0m \u001b[0mMIMEText\u001b[0m\u001b[1;33m\u001b[0m\u001b[1;33m\u001b[0m\u001b[0m\n\u001b[1;32m----> 5\u001b[1;33m \u001b[1;32mfrom\u001b[0m \u001b[0memail\u001b[0m\u001b[1;33m.\u001b[0m\u001b[0mMIMEImage\u001b[0m \u001b[1;32mimport\u001b[0m \u001b[0mMIMEImage\u001b[0m\u001b[1;33m\u001b[0m\u001b[1;33m\u001b[0m\u001b[0m\n\u001b[0m\u001b[0;32m      6\u001b[0m \u001b[1;33m\u001b[0m\u001b[0m\n\u001b[0;32m      7\u001b[0m \u001b[1;32mdef\u001b[0m \u001b[0msend_email\u001b[0m\u001b[1;33m(\u001b[0m\u001b[0mname\u001b[0m\u001b[1;33m,\u001b[0m \u001b[0memail\u001b[0m\u001b[1;33m,\u001b[0m \u001b[0mhtmlp\u001b[0m\u001b[1;33m)\u001b[0m\u001b[1;33m:\u001b[0m\u001b[1;33m\u001b[0m\u001b[1;33m\u001b[0m\u001b[0m\n",
      "\u001b[1;31mModuleNotFoundError\u001b[0m: No module named 'email.MIMEImage'"
     ]
    }
   ],
   "source": [
    "import smtplib, ssl\n",
    "\n",
    "from email.mime.multipart import MIMEMultipart\n",
    "from email.mime.text import MIMEText\n",
    "from email.MIMEImage import MIMEImage\n",
    "\n",
    "def send_email(name, email, htmlp):\n",
    "    smtp_server = \"smtp.gmail.com\"\n",
    "    port = 587  # For starttls\n",
    "    sender_email = \"email.marketing.grupo2@gmail.com\"\n",
    "    password = \"grupodois\"\n",
    "    receiver_email = email\n",
    "\n",
    "    # Create message container - the correct MIME type is multipart/alternative.\n",
    "    msg = MIMEMultipart('alternative')\n",
    "    msg['Subject'] = \"Preparados para a aventura, Capitão?\"\n",
    "    msg['From'] = sender_email\n",
    "    msg['To'] = receiver_email\n",
    "\n",
    "    \n",
    "    # Create the body of the message (a plain-text and an HTML version).\n",
    "    text = \"Se falhar, este e-mail será enviado.\"\n",
    "    part1 = MIMEText(text, 'plain')\n",
    "    msg.attach(part1)\n",
    "    \n",
    "    # lendo arquivo HTML como texto\n",
    "    f=codecs.open(htmlp, 'r')\n",
    "    soup = BeautifulSoup(f.read(), 'html.parser').prettify()\n",
    "    html = soup.replace(\"VARIABLE_NAME\", name)\n",
    "    part2 = MIMEText(html, 'html')\n",
    "    msg.attach(part2)\n",
    "    \n",
    "    # This example assumes the image is in the current directory\n",
    "    with open('conteudos/eclipse.jpg', 'rb') as img1:\n",
    "        msgImage = MIMEImage(img1.read())\n",
    "        msgImage.add_header('Content-ID', '<image_cid_1>')\n",
    "        msgRoot.attach(msgImage)\n",
    "\n",
    "    # Define the image's ID as referenced above\n",
    "    # This example assumes the image is in the current directory\n",
    "    with open('conteudos/por-do-sol.jpg', 'rb') as img2:\n",
    "        msgImage = MIMEImage(img2.read())\n",
    "        msgImage.add_header('Content-ID', '<image_cid_2>')\n",
    "        msgRoot.attach(msgImage)\n",
    "    \n",
    "\n",
    "    # Try to log in to server and send email\n",
    "    try:\n",
    "        context = ssl.create_default_context()\n",
    "        server = smtplib.SMTP(smtp_server,port)\n",
    "        server.ehlo() # Can be omitted\n",
    "        server.starttls(context=context) # Secure the connection\n",
    "        server.ehlo() # Can be omitted\n",
    "        server.login(sender_email, password)\n",
    "        # TODO: Send email here\n",
    "        server.sendmail(sender_email, receiver_email, msg.as_string())\n",
    "    except Exception as e:\n",
    "        # Print any error messages to stdout\n",
    "        print(e)\n",
    "    finally:\n",
    "        server.quit() "
   ]
  },
  {
   "cell_type": "code",
   "execution_count": 91,
   "metadata": {},
   "outputs": [
    {
     "name": "stdout",
     "output_type": "stream",
     "text": [
      "Sending email to Lucas Mazim\n"
     ]
    },
    {
     "ename": "TypeError",
     "evalue": "send_email() takes 3 positional arguments but 4 were given",
     "output_type": "error",
     "traceback": [
      "\u001b[1;31m---------------------------------------------------------------------------\u001b[0m",
      "\u001b[1;31mTypeError\u001b[0m                                 Traceback (most recent call last)",
      "\u001b[1;32m<ipython-input-91-f01c0cdbf761>\u001b[0m in \u001b[0;36m<module>\u001b[1;34m\u001b[0m\n\u001b[0;32m      6\u001b[0m     \u001b[1;32mfor\u001b[0m \u001b[0mname\u001b[0m\u001b[1;33m,\u001b[0m \u001b[0memail\u001b[0m\u001b[1;33m,\u001b[0m \u001b[0mgrade\u001b[0m \u001b[1;32min\u001b[0m \u001b[0mreader\u001b[0m\u001b[1;33m:\u001b[0m\u001b[1;33m\u001b[0m\u001b[1;33m\u001b[0m\u001b[0m\n\u001b[0;32m      7\u001b[0m         \u001b[0mprint\u001b[0m\u001b[1;33m(\u001b[0m\u001b[1;34mf\"Sending email to {name}\"\u001b[0m\u001b[1;33m)\u001b[0m\u001b[1;33m\u001b[0m\u001b[1;33m\u001b[0m\u001b[0m\n\u001b[1;32m----> 8\u001b[1;33m         \u001b[0msend_email\u001b[0m\u001b[1;33m(\u001b[0m\u001b[0mname\u001b[0m\u001b[1;33m,\u001b[0m \u001b[0memail\u001b[0m\u001b[1;33m,\u001b[0m \u001b[0mgrade\u001b[0m\u001b[1;33m,\u001b[0m \u001b[0mf\u001b[0m\u001b[1;33m)\u001b[0m\u001b[1;33m\u001b[0m\u001b[1;33m\u001b[0m\u001b[0m\n\u001b[0m",
      "\u001b[1;31mTypeError\u001b[0m: send_email() takes 3 positional arguments but 4 were given"
     ]
    }
   ],
   "source": [
    "import csv\n",
    "\n",
    "with open(\"contacts_list.csv\") as file:\n",
    "    reader = csv.reader(file)\n",
    "    next(reader)  # Skip header row\n",
    "    for name, email, grade in reader:\n",
    "        print(f\"Sending email to {name}\")\n",
    "        send_email(name, email, grade, f)"
   ]
  },
  {
   "cell_type": "code",
   "execution_count": 92,
   "metadata": {},
   "outputs": [
    {
     "ename": "NameError",
     "evalue": "name 'MIMEImage' is not defined",
     "output_type": "error",
     "traceback": [
      "\u001b[1;31m---------------------------------------------------------------------------\u001b[0m",
      "\u001b[1;31mNameError\u001b[0m                                 Traceback (most recent call last)",
      "\u001b[1;32m<ipython-input-92-9f9f283716ac>\u001b[0m in \u001b[0;36m<module>\u001b[1;34m\u001b[0m\n\u001b[1;32m----> 1\u001b[1;33m \u001b[0msend_email\u001b[0m\u001b[1;33m(\u001b[0m\u001b[1;34m\"Lucas\"\u001b[0m\u001b[1;33m,\u001b[0m \u001b[1;34m\"lucas.mazim9@gmail.com\"\u001b[0m\u001b[1;33m,\u001b[0m \u001b[1;34m\"conteudos/conteudo1.html\"\u001b[0m\u001b[1;33m)\u001b[0m\u001b[1;33m\u001b[0m\u001b[1;33m\u001b[0m\u001b[0m\n\u001b[0m",
      "\u001b[1;32m<ipython-input-90-4c9e93d1fce1>\u001b[0m in \u001b[0;36msend_email\u001b[1;34m(name, email, htmlp)\u001b[0m\n\u001b[0;32m     32\u001b[0m     \u001b[1;31m# This example assumes the image is in the current directory\u001b[0m\u001b[1;33m\u001b[0m\u001b[1;33m\u001b[0m\u001b[1;33m\u001b[0m\u001b[0m\n\u001b[0;32m     33\u001b[0m     \u001b[1;32mwith\u001b[0m \u001b[0mopen\u001b[0m\u001b[1;33m(\u001b[0m\u001b[1;34m'conteudos/eclipse.jpg'\u001b[0m\u001b[1;33m,\u001b[0m \u001b[1;34m'rb'\u001b[0m\u001b[1;33m)\u001b[0m \u001b[1;32mas\u001b[0m \u001b[0mimg1\u001b[0m\u001b[1;33m:\u001b[0m\u001b[1;33m\u001b[0m\u001b[1;33m\u001b[0m\u001b[0m\n\u001b[1;32m---> 34\u001b[1;33m         \u001b[0mmsgImage\u001b[0m \u001b[1;33m=\u001b[0m \u001b[0mMIMEImage\u001b[0m\u001b[1;33m(\u001b[0m\u001b[0mimg1\u001b[0m\u001b[1;33m.\u001b[0m\u001b[0mread\u001b[0m\u001b[1;33m(\u001b[0m\u001b[1;33m)\u001b[0m\u001b[1;33m)\u001b[0m\u001b[1;33m\u001b[0m\u001b[1;33m\u001b[0m\u001b[0m\n\u001b[0m\u001b[0;32m     35\u001b[0m         \u001b[0mmsgImage\u001b[0m\u001b[1;33m.\u001b[0m\u001b[0madd_header\u001b[0m\u001b[1;33m(\u001b[0m\u001b[1;34m'Content-ID'\u001b[0m\u001b[1;33m,\u001b[0m \u001b[1;34m'<image_cid_1>'\u001b[0m\u001b[1;33m)\u001b[0m\u001b[1;33m\u001b[0m\u001b[1;33m\u001b[0m\u001b[0m\n\u001b[0;32m     36\u001b[0m         \u001b[0mmsgRoot\u001b[0m\u001b[1;33m.\u001b[0m\u001b[0mattach\u001b[0m\u001b[1;33m(\u001b[0m\u001b[0mmsgImage\u001b[0m\u001b[1;33m)\u001b[0m\u001b[1;33m\u001b[0m\u001b[1;33m\u001b[0m\u001b[0m\n",
      "\u001b[1;31mNameError\u001b[0m: name 'MIMEImage' is not defined"
     ]
    }
   ],
   "source": [
    "send_email(\"Lucas\", \"lucas.mazim9@gmail.com\", \"conteudos/conteudo1.html\")"
   ]
  },
  {
   "cell_type": "code",
   "execution_count": null,
   "metadata": {},
   "outputs": [],
   "source": []
  },
  {
   "cell_type": "markdown",
   "metadata": {},
   "source": [
    "## Testes"
   ]
  },
  {
   "cell_type": "code",
   "execution_count": 81,
   "metadata": {},
   "outputs": [],
   "source": [
    "import codecs\n",
    "f=codecs.open(\"conteudos/conteudo1.html\", 'r')\n",
    "soup = BeautifulSoup(f.read(), 'html.parser').prettify()\n",
    "#strhtm = soup.prettify()"
   ]
  },
  {
   "cell_type": "code",
   "execution_count": 82,
   "metadata": {},
   "outputs": [
    {
     "data": {
      "text/plain": [
       "'<!DOCTYPE html>\\n<html>\\n <head>\\n  <style>\\n   body {background-color: powderblue;}\\nh1   {color: blue;}\\np    {color: red;}\\n  </style>\\n </head>\\n <body background-color=\"powderblue;\">\\n  <h1 style=\"text-align:center;\">\\n   Boooom dia, grupo! Bom dia, VARIABLE_NAME!\\n  </h1>\\n  <p style=\"text-align:center;\">\\n   GostarÃ\\xadamos de saber, qual imagem vocÃª prefere?\\n  </p>\\n  <a href=\"https://www.w3schools.com/\" target=\"_blank\">\\n   <img height=\"600\" src=\"cid:{image_cid_1}\" width=\"500\"/>\\n  </a>\\n  <a href=\"https://www.google.com/\" target=\"_blank\">\\n   <img alt=\"HTML tutorial\" src=\"cid:{image_cid}_2\" style=\"width:42px;height:42px;\"/>\\n  </a>\\n  <h3 style=\"text-align:center;\">\\n   Obrigado por participar!\\n  </h3>\\n </body>\\n</html>\\n'"
      ]
     },
     "execution_count": 82,
     "metadata": {},
     "output_type": "execute_result"
    }
   ],
   "source": [
    "soup"
   ]
  },
  {
   "cell_type": "code",
   "execution_count": 65,
   "metadata": {},
   "outputs": [
    {
     "data": {
      "text/plain": [
       "'<!DOCTYPE html>\\n<html>\\n <head>\\n  <style>\\n   body {background-color: powderblue;}\\nh1   {color: blue;}\\np    {color: red;}\\n  </style>\\n </head>\\n <body>\\n  <h1 style=\"text-align:center;\">\\n   Boooom dia, grupo! Bom dia, VARIABLE_NAME!\\n  </h1>\\n  <p style=\"text-align:center;\">\\n   GostarÃ\\xadamos de saber, qual imagem vocÃª prefere?\\n  </p>\\n  <a href=\"https://www.w3schools.com/\" target=\"_blank\">\\n   <img height=\"600\" src=\"conteudos/eclipse.jpg\" width=\"500\"/>\\n  </a>\\n  <a href=\"https://www.google.com/\" target=\"_blank\">\\n   <img alt=\"HTML tutorial\" src=\"conteudos/por-do-sol.jpg\" style=\"width:42px;height:42px;\"/>\\n  </a>\\n </body>\\n</html>\\n'"
      ]
     },
     "execution_count": 65,
     "metadata": {},
     "output_type": "execute_result"
    }
   ],
   "source": [
    "strhtm"
   ]
  },
  {
   "cell_type": "code",
   "execution_count": null,
   "metadata": {},
   "outputs": [],
   "source": []
  },
  {
   "cell_type": "markdown",
   "metadata": {},
   "source": [
    "## Teste 2"
   ]
  },
  {
   "cell_type": "code",
   "execution_count": 80,
   "metadata": {},
   "outputs": [
    {
     "data": {
      "text/plain": [
       "'161950535256.48748.8692514012258096235@gmail.com'"
      ]
     },
     "execution_count": 80,
     "metadata": {},
     "output_type": "execute_result"
    }
   ],
   "source": [
    "image_cid[1:-1]"
   ]
  },
  {
   "cell_type": "code",
   "execution_count": 79,
   "metadata": {},
   "outputs": [
    {
     "data": {
      "text/plain": [
       "'<161950535256.48748.8692514012258096235@gmail.com>'"
      ]
     },
     "execution_count": 79,
     "metadata": {},
     "output_type": "execute_result"
    }
   ],
   "source": [
    "image_cid"
   ]
  },
  {
   "cell_type": "code",
   "execution_count": 78,
   "metadata": {},
   "outputs": [],
   "source": [
    "from email.message import EmailMessage\n",
    "from email.utils import make_msgid\n",
    "import mimetypes\n",
    "\n",
    "sender_email = \"email.marketing.grupo2@gmail.com\"\n",
    "password = \"grupodois\"\n",
    "receiver_email = \"lucas.mazim9@gmail.com\"\n",
    "\n",
    "msg = EmailMessage()\n",
    "\n",
    "# generic email headers\n",
    "msg['Subject'] = \"Preparados para a aventura, Capitão?\"\n",
    "msg['From'] = sender_email\n",
    "msg['To'] = receiver_email\n",
    "\n",
    "# set the plain text body\n",
    "msg.set_content('This is a plain text body.')\n",
    "\n",
    "# now create a Content-ID for the image\n",
    "image_cid = make_msgid(domain='gmail.com')\n",
    "# if `domain` argument isn't provided, it will \n",
    "# use your computer's name\n",
    "\n",
    "# set an alternative html body\n",
    "msg.add_alternative(\"\"\"\\\n",
    "<html>\n",
    "    <body>\n",
    "        <p>This is an HTML body.<br>\n",
    "           It also has an image.\n",
    "        </p>\n",
    "        <a href=\"https://www.google.com/\" target=\"_blank\">\n",
    "            <img src=\"cid:{image_cid}\">\n",
    "        </a>\n",
    "    </body>\n",
    "</html>\n",
    "\"\"\".format(image_cid=image_cid[1:-1]), subtype='html')\n",
    "# image_cid looks like <long.random.number@xyz.com>\n",
    "# to use it as the img src, we don't need `<` or `>`\n",
    "# so we use [1:-1] to strip them off\n",
    "\n",
    "\n",
    "# now open the image and attach it to the email\n",
    "with open('conteudos/eclipse.jpg', 'rb') as img:\n",
    "\n",
    "    # know the Content-Type of the image\n",
    "    maintype, subtype = mimetypes.guess_type(img.name)[0].split('/')\n",
    "\n",
    "    # attach it\n",
    "    msg.get_payload()[1].add_related(img.read(), \n",
    "                                         maintype=maintype, \n",
    "                                         subtype=subtype, \n",
    "                                         cid=image_cid)\n",
    "    \n",
    "try:\n",
    "    smtp_server = \"smtp.gmail.com\"\n",
    "    port = 587 \n",
    "    context = ssl.create_default_context()\n",
    "    server = smtplib.SMTP(smtp_server,port)\n",
    "    server.ehlo() # Can be omitted\n",
    "    server.starttls(context=context) # Secure the connection\n",
    "    server.ehlo() # Can be omitted\n",
    "    server.login(sender_email, password)\n",
    "    # TODO: Send email here\n",
    "    server.sendmail(sender_email, receiver_email, msg.as_string())\n",
    "except Exception as e:\n",
    "    # Print any error messages to stdout\n",
    "    print(e)\n",
    "finally:\n",
    "    server.quit() "
   ]
  },
  {
   "cell_type": "code",
   "execution_count": null,
   "metadata": {},
   "outputs": [],
   "source": []
  },
  {
   "cell_type": "markdown",
   "metadata": {},
   "source": [
    "## Versão 2.0"
   ]
  },
  {
   "cell_type": "code",
   "execution_count": 112,
   "metadata": {},
   "outputs": [],
   "source": [
    "def send_mail2(name, email, htmlp):\n",
    "    sender_email = \"email.marketing.grupo2@gmail.com\"\n",
    "    password = \"grupodois\"\n",
    "    receiver_email = email\n",
    "\n",
    "    msg = EmailMessage()\n",
    "\n",
    "    # generic email headers\n",
    "    msg['Subject'] = \"Preparados para a aventura, Capitão?\"\n",
    "    msg['From'] = sender_email\n",
    "    msg['To'] = receiver_email\n",
    "\n",
    "    # set the plain text body\n",
    "    msg.set_content('This is a plain text body.')\n",
    "\n",
    "    # now create a Content-ID for the image\n",
    "    image_cid1 = make_msgid(domain='gmail.com')\n",
    "    image_cid2 = make_msgid(domain='gmail.com')\n",
    "    # if `domain` argument isn't provided, it will \n",
    "    # use your computer's name\n",
    "\n",
    "    # TESTE\n",
    "    f=codecs.open(htmlp, 'r')\n",
    "    soup = BeautifulSoup(f.read(), 'html.parser').prettify()\n",
    "    html = soup.replace(\"VARIABLE_NAME\", name)\n",
    "    \n",
    "    # set an alternative html body\n",
    "    msg.add_alternative(html.format(image_cid1=image_cid1[1:-1], image_cid2=image_cid2[1:-1]), subtype='html')\n",
    "    # image_cid looks like <long.random.number@xyz.com>\n",
    "    # to use it as the img src, we don't need `<` or `>`\n",
    "    # so we use [1:-1] to strip them off\n",
    "\n",
    "\n",
    "    # now open the image and attach it to the email\n",
    "    with open('conteudos/eclipse.jpg', 'rb') as img:\n",
    "\n",
    "        # know the Content-Type of the image\n",
    "        maintype, subtype = mimetypes.guess_type(img.name)[0].split('/')\n",
    "\n",
    "        # attach it\n",
    "        msg.get_payload()[1].add_related(img.read(), \n",
    "                                             maintype=maintype, \n",
    "                                             subtype=subtype, \n",
    "                                             cid=image_cid1)\n",
    "        \n",
    "    with open('conteudos/por-do-sol.jpg', 'rb') as img:\n",
    "\n",
    "        # know the Content-Type of the image\n",
    "        maintype, subtype = mimetypes.guess_type(img.name)[0].split('/')\n",
    "\n",
    "        # attach it\n",
    "        msg.get_payload()[1].add_related(img.read(), \n",
    "                                             maintype=maintype, \n",
    "                                             subtype=subtype, \n",
    "                                             cid=image_cid2)\n",
    "\n",
    "    try:\n",
    "        smtp_server = \"smtp.gmail.com\"\n",
    "        port = 587 \n",
    "        context = ssl.create_default_context()\n",
    "        server = smtplib.SMTP(smtp_server,port)\n",
    "        server.ehlo() # Can be omitted\n",
    "        server.starttls(context=context) # Secure the connection\n",
    "        server.ehlo() # Can be omitted\n",
    "        server.login(sender_email, password)\n",
    "        # TODO: Send email here\n",
    "        server.sendmail(sender_email, receiver_email, msg.as_string())\n",
    "    except Exception as e:\n",
    "        # Print any error messages to stdout\n",
    "        print(e)\n",
    "    finally:\n",
    "        server.quit() "
   ]
  },
  {
   "cell_type": "code",
   "execution_count": 113,
   "metadata": {},
   "outputs": [],
   "source": [
    "send_mail2(\"Lucas\", \"lucas.mazim9@gmail.com\", \"conteudos/conteudo1.html\")"
   ]
  },
  {
   "cell_type": "code",
   "execution_count": 114,
   "metadata": {},
   "outputs": [
    {
     "name": "stdout",
     "output_type": "stream",
     "text": [
      "Sending email to Lucas Mazim\n",
      "Sending email to Carol\n",
      "Sending email to Fabi\n",
      "Sending email to Leonardo\n",
      "Sending email to Grupo 2\n"
     ]
    }
   ],
   "source": [
    "import csv\n",
    "\n",
    "with open(\"contacts_list.csv\") as file:\n",
    "    reader = csv.reader(file)\n",
    "    next(reader)  # Skip header row\n",
    "    for name, email in reader:\n",
    "        print(f\"Sending email to {name}\")\n",
    "        send_mail2(name, email, \"conteudos/conteudo1.html\")"
   ]
  }
 ],
 "metadata": {
  "kernelspec": {
   "display_name": "Python 3",
   "language": "python",
   "name": "python3"
  },
  "language_info": {
   "codemirror_mode": {
    "name": "ipython",
    "version": 3
   },
   "file_extension": ".py",
   "mimetype": "text/x-python",
   "name": "python",
   "nbconvert_exporter": "python",
   "pygments_lexer": "ipython3",
   "version": "3.7.4"
  }
 },
 "nbformat": 4,
 "nbformat_minor": 2
}
